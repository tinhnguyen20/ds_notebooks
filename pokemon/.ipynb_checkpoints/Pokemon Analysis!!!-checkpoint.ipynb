{
 "cells": [
  {
   "cell_type": "code",
   "execution_count": 3,
   "metadata": {
    "collapsed": false
   },
   "outputs": [],
   "source": [
    "import numpy as np\n",
    "import pandas as pd\n",
    "import re\n",
    "import sys\n",
    "import urllib\n",
    "import random\n",
    "from bs4 import BeautifulSoup"
   ]
  },
  {
   "cell_type": "markdown",
   "metadata": {},
   "source": [
    "# Pokemon Notebook : A Case Study Exploring many Avenues'\n",
    "\n",
    "## Tinh Nguyen 4/13\n",
    "\n",
    "Exuse the large blocks of code. I calculated these by web crawling using a BeautifulSoup Python 2 http://pokemondb.net/type Code for output on _____/_____.ipynb\n",
    "```\n",
    "type_advantage_mat\n",
    "    - X_ij = ( Type i Attack, Type j Defend ) multiplier of type\n",
    "```"
   ]
  },
  {
   "cell_type": "code",
   "execution_count": 13,
   "metadata": {
    "collapsed": false
   },
   "outputs": [],
   "source": [
    "# Import dataset\n",
    "pokekmon = pd.read_csv('Pokemon.csv')"
   ]
  },
  {
   "cell_type": "code",
   "execution_count": 15,
   "metadata": {
    "collapsed": false
   },
   "outputs": [],
   "source": [
    "type_advantage_mat = np.array([[ 1. ,  1. ,  1. ,  1. ,  1. ,  1. ,  1. ,  1. ,  1. ,  1. ,  1. ,\n",
    "         1. ,  0.5,  0. ,  1. ,  1. ,  0.5,  1. ],\n",
    "       [ 1. ,  0.5,  0.5,  1. ,  2. ,  2. ,  1. ,  1. ,  1. ,  1. ,  1. ,\n",
    "         2. ,  0.5,  1. ,  0.5,  1. ,  2. ,  1. ],\n",
    "       [ 1. ,  2. ,  0.5,  1. ,  0.5,  1. ,  1. ,  1. ,  2. ,  1. ,  1. ,\n",
    "         1. ,  2. ,  1. ,  0.5,  1. ,  1. ,  1. ],\n",
    "       [ 1. ,  1. ,  2. ,  0.5,  0.5,  1. ,  1. ,  1. ,  0. ,  2. ,  1. ,\n",
    "         1. ,  1. ,  1. ,  0.5,  1. ,  1. ,  1. ],\n",
    "       [ 1. ,  0.5,  2. ,  1. ,  0.5,  1. ,  1. ,  0.5,  2. ,  0.5,  1. ,\n",
    "         0.5,  2. ,  1. ,  0.5,  1. ,  0.5,  1. ],\n",
    "       [ 1. ,  0.5,  0.5,  1. ,  2. ,  0.5,  1. ,  1. ,  2. ,  2. ,  1. ,\n",
    "         1. ,  1. ,  1. ,  2. ,  1. ,  0.5,  1. ],\n",
    "       [ 2. ,  1. ,  1. ,  1. ,  1. ,  2. ,  1. ,  0.5,  1. ,  0.5,  0.5,\n",
    "         0.5,  2. ,  0. ,  1. ,  2. ,  2. ,  0.5],\n",
    "       [ 1. ,  1. ,  1. ,  1. ,  2. ,  1. ,  1. ,  0.5,  0.5,  1. ,  1. ,\n",
    "         1. ,  0.5,  0.5,  1. ,  1. ,  0. ,  2. ],\n",
    "       [ 1. ,  2. ,  1. ,  2. ,  0.5,  1. ,  1. ,  2. ,  1. ,  0. ,  1. ,\n",
    "         0.5,  2. ,  1. ,  1. ,  1. ,  2. ,  1. ],\n",
    "       [ 1. ,  1. ,  1. ,  0.5,  2. ,  1. ,  2. ,  1. ,  1. ,  1. ,  1. ,\n",
    "         2. ,  0.5,  1. ,  1. ,  1. ,  0.5,  1. ],\n",
    "       [ 1. ,  1. ,  1. ,  1. ,  1. ,  1. ,  2. ,  2. ,  1. ,  1. ,  0.5,\n",
    "         1. ,  1. ,  1. ,  1. ,  0. ,  0.5,  1. ],\n",
    "       [ 1. ,  0.5,  1. ,  1. ,  2. ,  1. ,  0.5,  0.5,  1. ,  0.5,  2. ,\n",
    "         1. ,  1. ,  0.5,  1. ,  2. ,  0.5,  0.5],\n",
    "       [ 1. ,  2. ,  1. ,  1. ,  1. ,  2. ,  0.5,  1. ,  0.5,  2. ,  1. ,\n",
    "         2. ,  1. ,  1. ,  1. ,  1. ,  0.5,  1. ],\n",
    "       [ 0. ,  1. ,  1. ,  1. ,  1. ,  1. ,  1. ,  1. ,  1. ,  1. ,  2. ,\n",
    "         1. ,  1. ,  2. ,  1. ,  0.5,  1. ,  1. ],\n",
    "       [ 1. ,  1. ,  1. ,  1. ,  1. ,  1. ,  1. ,  1. ,  1. ,  1. ,  1. ,\n",
    "         1. ,  1. ,  1. ,  2. ,  1. ,  0.5,  0. ],\n",
    "       [ 1. ,  1. ,  1. ,  1. ,  1. ,  1. ,  0.5,  1. ,  1. ,  1. ,  2. ,\n",
    "         1. ,  1. ,  2. ,  1. ,  0.5,  1. ,  0.5],\n",
    "       [ 1. ,  0.5,  0.5,  0.5,  1. ,  2. ,  1. ,  1. ,  1. ,  1. ,  1. ,\n",
    "         1. ,  2. ,  1. ,  1. ,  1. ,  0.5,  2. ],\n",
    "       [ 1. ,  0.5,  1. ,  1. ,  1. ,  1. ,  2. ,  0.5,  1. ,  1. ,  1. ,\n",
    "         1. ,  1. ,  1. ,  2. ,  2. ,  0.5,  1. ]])"
   ]
  },
  {
   "cell_type": "code",
   "execution_count": 17,
   "metadata": {
    "collapsed": false
   },
   "outputs": [],
   "source": [
    "key = {'Bug': 11,\n",
    " 'Dark': 15,\n",
    " 'Dragon': 14,\n",
    " 'Electric': 3,\n",
    " 'Fairy': 17,\n",
    " 'Fighting': 6,\n",
    " 'Fire': 1,\n",
    " 'Flying': 9,\n",
    " 'Ghost': 13,\n",
    " 'Grass': 4,\n",
    " 'Ground': 8,\n",
    " 'Ice': 5,\n",
    " 'Normal': 0,\n",
    " 'Poison': 7,\n",
    " 'Psychic': 10,\n",
    " 'Rock': 12,\n",
    " 'Steel': 16,\n",
    " 'Water': 2}"
   ]
  },
  {
   "cell_type": "code",
   "execution_count": null,
   "metadata": {
    "collapsed": true
   },
   "outputs": [],
   "source": []
  }
 ],
 "metadata": {
  "kernelspec": {
   "display_name": "Python [Root]",
   "language": "python",
   "name": "Python [Root]"
  },
  "language_info": {
   "codemirror_mode": {
    "name": "ipython",
    "version": 3
   },
   "file_extension": ".py",
   "mimetype": "text/x-python",
   "name": "python",
   "nbconvert_exporter": "python",
   "pygments_lexer": "ipython3",
   "version": "3.5.2"
  }
 },
 "nbformat": 4,
 "nbformat_minor": 0
}
